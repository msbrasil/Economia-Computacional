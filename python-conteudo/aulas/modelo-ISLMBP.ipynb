{
 "cells": [
  {
   "cell_type": "code",
   "execution_count": 1,
   "metadata": {},
   "outputs": [],
   "source": [
    "import numpy as np               # funções matemáticas\n",
    "import matplotlib.pyplot as plt  # funções básicas para gráficos\n",
    "import pandas as pd              # acesso e manipulação de dados\n",
    "#import statistics as sta         # funções estatísticas\n",
    "#import string as stg             # manipulação de strings"
   ]
  },
  {
   "cell_type": "markdown",
   "metadata": {},
   "source": [
    "## Modelo \n",
    "### Curva IS\n",
    "\n",
    "\\begin{equation}\n",
    "Y_t=C_t+I_t+G_t+X_t-M_t\n",
    "\\end{equation}\n",
    "### Curva LM\n",
    "\\begin{equation}\n",
    "i_t=\\frac{k}{h}Y_t-\\frac{1}{h}\\overline{L}\n",
    "\\end{equation}"
   ]
  },
  {
   "cell_type": "markdown",
   "metadata": {},
   "source": [
    "### 1) Declaração de Variáveis exógenas e Parâmetros"
   ]
  },
  {
   "cell_type": "code",
   "execution_count": 2,
   "metadata": {},
   "outputs": [],
   "source": [
    "#Variáveis Exógenas Iniciais\n",
    "C0 = 100    # consumo autonomo\n",
    "I0 = 200    # investimento - fixo ou constante\n",
    "T0 = 100    # tributos\n",
    "G = 200     # gasto do governo - fixo ou constante\n",
    "Zt = 5000   # PIB Internacional\n",
    "E = 5.00    # taxa de câmbio (fixa)\n",
    "X0 = 50     # exportações\n",
    "x1 = 0.02   # parametro de exportação\n",
    "x2 = 80     # parametro de exportação\n",
    "M0 = 50     # importações\n",
    "\n",
    "#Parâmetros Iniciais\n",
    "m1 = 0.10   # parametro de importação\n",
    "m2 = 50     # parametro de importação\n",
    "c = 0.8     # propensão marginal a consumir\n",
    "d = 0.05    \n",
    "f = 2000    \n",
    "h = 4000\n",
    "tau = 0.05  # alíquota de imposto de renda\n",
    "k = 10\n",
    "L = 84000   # Quantidade de moeda em circulação\n",
    "T = 200     # tributos - fixo ou constante\n",
    "\n",
    "#Variáveis Endógenas\n",
    "Y = []      # lista para armazenar os valores de Y(t)\n",
    "C = []      # lista para armazenar os valores C(t)\n",
    "D = []      # lista para armazenar dívida do governo no tempo\n",
    "X = []      # lista para amarzenar valores de exportação no tempo\n",
    "M = []      # lista para armzenar valores de importação no tempo\n",
    "T = []      # lista para armazenar valores de tributos no tempo\n",
    "Ld = []      #Lista para valores de demanda por moeda ao longo do tempo\n",
    "Lo = []\n",
    "i = []\n",
    "time = 30   # total de iterações ou horizonte de tempo analisado\n"
   ]
  },
  {
   "cell_type": "markdown",
   "metadata": {},
   "source": [
    "### 2) Equações Dinâmicas"
   ]
  },
  {
   "cell_type": "code",
   "execution_count": 15,
   "metadata": {},
   "outputs": [],
   "source": [
    "def eqC(val):  # equação consumo\n",
    "    _c = C0 + c*(val-T0)  # val = Renda = Y(t-1)\n",
    "    C.append(_c)\n",
    "\n",
    "\n",
    "def eqY():  # equação Renda\n",
    "    _y = C[t] + I0 + G\n",
    "    Y.append(_y)\n",
    "\n",
    "\n",
    "def eqD(val):  # equação da dívida\n",
    "    _d = val + T0 - G\n",
    "    D.append(_d)\n",
    "\n",
    "def eqLD():      #Equação demanda por moeda\n",
    "    _L = h*Y - k*i\n",
    "    Ld.append(_L)\n",
    "\n",
    "def eqLO():     #Equação oferta por moeda\n",
    "    _L = k*Y - h*i\n",
    "    Ld.append(_L)\n",
    "    \n",
    "def eqX(val):  # equação de exportação\n",
    "    _x = X0 +x1*val + x2*E\n",
    "    X.append(_x)\n",
    "\n",
    "def eqM(val):  # quação de importação\n",
    "    _m = M0 + m1*val - m2*E\n",
    "    M.append(_m)\n"
   ]
  },
  {
   "cell_type": "markdown",
   "metadata": {},
   "source": [
    "### 3) Dinâmica: calculos iterados no tempo após um aumento permanente dos gastos do governo G = 220"
   ]
  },
  {
   "cell_type": "code",
   "execution_count": 8,
   "metadata": {},
   "outputs": [],
   "source": [
    "# Inicia vetores em t=0, com valores iniciais(condições iniciais)\n",
    "#variáveis da equação de equilíbrio\n",
    "A = C0 - c*T0 + I0 + G + X0 - M0    # Curva IS\n",
    "\n",
    "p = (1 - c*(1-tau) - d + m1)        # p = Deslocamento das curvas\n",
    "sigma = 1 + ((f*k)/(p*h))           #\n",
    "y_eq = (1/p*sigma)*(A + x1*Zt + (x2+m2)*E + f/h*L)       #Nova equação de equilíbrio\n",
    "Y.append(y_eq)\n",
    "i_eq = k/h * A - 1/h * L\n",
    "i.append(i_eq)\n",
    "c_eq = C0 + c * (y_eq - T0)\n",
    "C.append(c_eq)\n",
    "D.append(T0-G)\n",
    "G = 220         # choque de política fiscal\n"
   ]
  },
  {
   "cell_type": "code",
   "execution_count": 17,
   "metadata": {},
   "outputs": [],
   "source": [
    "# loop temporal (crial série temporada para cada variavel endógena)\n",
    "for t in range(1, time):\n",
    "    eqC(Y[t-1])\n",
    "    eqY()\n",
    "    eqD(D[t-1])\n",
    "    eqX(Y[t-1])\n",
    "    eqM(Y[t-1])\n",
    "    eqL\n",
    "    \n",
    "\n",
    "#print(Y)\n",
    "#print(C)\n",
    "#print(D)\n",
    "#print(X)\n",
    "#print(M)\n"
   ]
  },
  {
   "cell_type": "code",
   "execution_count": 18,
   "metadata": {},
   "outputs": [],
   "source": [
    "# juntar todas as listas e transformar em um dataframe\n",
    "colunas = list(zip(Y, C, D, X, M))  # juntando\n",
    "df = pd.DataFrame(colunas, columns=['Y', 'C', 'D','X','M'])  # conversão para dataframe\n",
    "# exportando o arquivo para o formato .csv\n",
    "df.to_csv('ModeloISLM-Resultado.csv')\n"
   ]
  },
  {
   "cell_type": "code",
   "execution_count": null,
   "metadata": {},
   "outputs": [],
   "source": [
    "# plotando as informações até aqui\n",
    "t = list(range(0, time))\n",
    "plt.plot(t, Y, label=\"Y(t)\", color='blue')\n",
    "plt.plot(t, C, label='C(t)', color='red')\n",
    "plt.legend(loc='upper left')\n",
    "plt.show()\n"
   ]
  },
  {
   "cell_type": "code",
   "execution_count": 19,
   "metadata": {},
   "outputs": [
    {
     "data": {
      "text/plain": [
       "Text(0.5, 1.0, 'D(t)')"
      ]
     },
     "execution_count": 19,
     "metadata": {},
     "output_type": "execute_result"
    },
    {
     "data": {
      "image/png": "[encoded data removed]",
      "text/plain": [
       "<Figure size 432x288 with 4 Axes>"
      ]
     },
     "metadata": {
      "needs_background": "light"
     },
     "output_type": "display_data"
    }
   ],
   "source": [
    "# Multiplos plots\n",
    "\n",
    "# Initialise the subplot function us\n",
    "figure, axis = plt.subplots(2, 2)\n",
    "# Renda\n",
    "axis[0, 0].plot(Y,label=\"Y(t)\",color=\"black\")    \n",
    "axis[0, 0].set_title(\"Y(t)\")\n",
    "# Consumo\n",
    "axis[0, 1].plot(C,label=\"C(t)\",color='black')\n",
    "axis[0, 1].set_title(\"C(t)\")\n",
    "# Dívida\n",
    "axis[1, 1].plot(D,label=\"D(t)\",color='black')\n",
    "axis[1, 1].set_title(\"D(t)\")"
   ]
  }
 ],
 "metadata": {
  "interpreter": {
   "hash": "f244901a1cefac460a7f1ec92d059106258d57f2a6ff27407b0c4aa071020808"
  },
  "kernelspec": {
   "display_name": "Python 3.10.0 64-bit",
   "language": "python",
   "name": "python3"
  },
  "language_info": {
   "codemirror_mode": {
    "name": "ipython",
    "version": 3
   },
   "file_extension": ".py",
   "mimetype": "text/x-python",
   "name": "python",
   "nbconvert_exporter": "python",
   "pygments_lexer": "ipython3",
   "version": "3.10.0"
  },
  "orig_nbformat": 4
 },
 "nbformat": 4,
 "nbformat_minor": 2
}
