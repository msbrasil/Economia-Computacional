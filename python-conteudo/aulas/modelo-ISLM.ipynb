{
 "cells": [
  {
   "cell_type": "code",
   "execution_count": 2,
   "metadata": {},
   "outputs": [],
   "source": [
    "import numpy as np              #funções matemáticas\n",
    "import statistics as sta        #funções estatísticas\n",
    "import pandas as pd             #acesso e manipulação de dados\n",
    "import string as stg            #manipulação de strings\n",
    "import matplotlib.pyplot as plt  #funções básicas para gráficos"
   ]
  },
  {
   "cell_type": "markdown",
   "metadata": {},
   "source": [
    "##Modelo \n",
    "### Curva IS\n",
    "Este modelo é somente a curva IS, sendo a taxa de juros, por ora, uma variável exógena.\n",
    "\n",
    "Y(t) = C(t) + I(t) + G(t) \\\\\n",
    "\n",
    "C(t) = C0 + c[Y(t-1)-T(t)] \\\\\n",
    "\n",
    "I(t) = I0 \\\\\n",
    "\n",
    "G(t) = T \\\\\n",
    "\n",
    "D(t) = D(t=1)+T(t)-G(t) \\\\\n",
    "\n",
    "\n",
    "### Curva LM\n",
    "\n",
    "M = kY(t) - hi(t)\n",
    "\n",
    "\n",
    "Y(t), C(t), i(t) e D(t) são variáveis endógenas,\n",
    "\n",
    "G, T, Mo são variáveis exógenas\n",
    "\n",
    "Co e c, I0, d, F, D0 sao parâmetros das equações ou comportamentais\n",
    "\n",
    "Este modelo em equilíbrio Yeq, quando Y(t-1)=Y(t)=(t-1)=...=Y\n",
    "\n",
    "Y = C + I + G\n",
    "\n",
    "C = C0 + c(Y - T)\n",
    "\n",
    "Y = C0 + c(y-T) + I0 + G\n",
    "\n",
    "(1-c)Y = C0 - cT _ I0 + G\n",
    "\n",
    "Yeq = 1 / (1-c) * (C0 - cT + I0 + G)\n",
    "\n",
    "mult_simples = 1 / (1-c)"
   ]
  },
  {
   "cell_type": "markdown",
   "metadata": {},
   "source": [
    "### 1) Declaração de Variáveis exógenas e Parâmetros"
   ]
  },
  {
   "cell_type": "code",
   "execution_count": 3,
   "metadata": {},
   "outputs": [],
   "source": [
    "C0 = 100    #consumo autonomo\n",
    "c  = 0.8    #propenão marginal a consumir\n",
    "I0 = 300    #investimento - fixo ou constante\n",
    "G  = 200    #gasto do governo - fixo ou constante\n",
    "T  = 200    #tributos - fixo ou constante\n",
    "Y  = []     #lista para armazenar os valores de Y(t)\n",
    "C  = []     #lista para armazenar os valores C(t)\n",
    "D  = []     #lista para armazenar dívida do governo\n",
    "time = 20 "
   ]
  },
  {
   "cell_type": "markdown",
   "metadata": {},
   "source": [
    "### 2) Equações Dinâmicas"
   ]
  },
  {
   "cell_type": "code",
   "execution_count": 4,
   "metadata": {},
   "outputs": [],
   "source": [
    "def eqC(val):               #equação consumo\n",
    "    _c = C0 + c*(val-T)     #val = Renda = Y(t-1)\n",
    "    C.append(_c)\n",
    "\n",
    "def eqY():                  #equação Renda\n",
    "    _y = C[t] + I0 + G\n",
    "    Y.append(_y)\n",
    "\n",
    "def eqD(val):                  #equação da dívida\n",
    "    _d = val + T - G\n",
    "    D.append(_d)\n"
   ]
  },
  {
   "cell_type": "markdown",
   "metadata": {},
   "source": [
    "### 3) Dinâmica: calculos iterados no tempo após um aumento permanente dos gastos do governo G = 220"
   ]
  },
  {
   "cell_type": "code",
   "execution_count": 5,
   "metadata": {},
   "outputs": [],
   "source": [
    "#Inicia vetores em t=0, com valores iniciais(condições iniciais)\n",
    "y_eq = (1 / (1 - c)) * (C0 + I0 + G - c * T)\n",
    "Y.append(y_eq)\n",
    "c_eq = C0 + c * (y_eq - T)\n",
    "C.append(c_eq)\n",
    "D.append(T-G)\n",
    "G = 220         #choque de política fiscal"
   ]
  },
  {
   "cell_type": "code",
   "execution_count": 6,
   "metadata": {},
   "outputs": [
    {
     "name": "stdout",
     "output_type": "stream",
     "text": [
      "[2200.0000000000005, 2220.0000000000005, 2236.0000000000005, 2248.8, 2259.04, 2267.232, 2273.7856, 2279.02848, 2283.222784, 2286.5782272, 2289.26258176, 2291.4100654080003, 2293.1280523264004, 2294.50244186112, 2295.6019534888965, 2296.4815627911175, 2297.185250232894, 2297.7482001863154, 2298.1985601490524, 2298.5588481192417]\n",
      "[1700.0000000000005, 1700.0000000000005, 1716.0000000000005, 1728.8000000000004, 1739.0400000000002, 1747.232, 1753.7856000000002, 1759.0284800000002, 1763.222784, 1766.5782272000001, 1769.26258176, 1771.4100654080003, 1773.1280523264004, 1774.5024418611204, 1775.6019534888962, 1776.4815627911173, 1777.185250232894, 1777.7482001863152, 1778.1985601490524, 1778.558848119242]\n",
      "[0, -20, -40, -60, -80, -100, -120, -140, -160, -180, -200, -220, -240, -260, -280, -300, -320, -340, -360, -380]\n"
     ]
    }
   ],
   "source": [
    "#loop temporal (crial série temporada para cada variavel endógena)\n",
    "for t in range(1, time):\n",
    "    eqC(Y[t-1])\n",
    "    eqY()\n",
    "    eqD(D[t-1])\n",
    "\n",
    "print(Y)\n",
    "print(C)\n",
    "print(D)"
   ]
  },
  {
   "cell_type": "code",
   "execution_count": 7,
   "metadata": {},
   "outputs": [],
   "source": [
    "#juntar todas as listas e transformar em um dataframe\n",
    "colunas = list(zip(Y, C, D))                        #juntando\n",
    "df = pd.DataFrame(colunas, columns=['Y','C','D'])   #conversão para dataframe\n",
    "df.to_csv('ModeloISLM-Resultado.csv')               #exportando o arquivo para o formato .csv\n"
   ]
  },
  {
   "cell_type": "code",
   "execution_count": 8,
   "metadata": {},
   "outputs": [
    {
     "data": {
      "image/png": "[encoded data removed]",
      "text/plain": [
       "<Figure size 432x288 with 1 Axes>"
      ]
     },
     "metadata": {
      "needs_background": "light"
     },
     "output_type": "display_data"
    }
   ],
   "source": [
    "#plotando as informações até aqui\n",
    "t = list(range(0, time))\n",
    "plt.plot(t, Y, label=\"Y(t)\", color = 'blue')\n",
    "plt.plot(t, C, label='C(t)', color='red')\n",
    "plt.legend(loc='upper left')\n",
    "plt.show()"
   ]
  },
  {
   "cell_type": "code",
   "execution_count": 9,
   "metadata": {},
   "outputs": [
    {
     "data": {
      "text/plain": [
       "Text(0.5, 1.0, 'D(t)')"
      ]
     },
     "execution_count": 9,
     "metadata": {},
     "output_type": "execute_result"
    },
    {
     "data": {
      "image/png": "[encoded data removed]",
      "text/plain": [
       "<Figure size 432x288 with 4 Axes>"
      ]
     },
     "metadata": {
      "needs_background": "light"
     },
     "output_type": "display_data"
    }
   ],
   "source": [
    "# Multiplos plots\n",
    "\n",
    "# Initialise the subplot function us\n",
    "figure, axis = plt.subplots(2, 2)\n",
    "# Renda\n",
    "axis[0, 0].plot(Y,label=\"Y(t)\",color=\"black\")    \n",
    "axis[0, 0].set_title(\"Y(t)\")\n",
    "# Consumo\n",
    "axis[0, 1].plot(C,label=\"C(t)\",color='black')\n",
    "axis[0, 1].set_title(\"C(t)\")\n",
    "# Dívida\n",
    "axis[1, 1].plot(D,label=\"D(t)\",color='black')\n",
    "axis[1, 1].set_title(\"D(t)\")"
   ]
  }
 ],
 "metadata": {
  "interpreter": {
   "hash": "f244901a1cefac460a7f1ec92d059106258d57f2a6ff27407b0c4aa071020808"
  },
  "kernelspec": {
   "display_name": "Python 3.10.0 64-bit",
   "language": "python",
   "name": "python3"
  },
  "language_info": {
   "codemirror_mode": {
    "name": "ipython",
    "version": 3
   },
   "file_extension": ".py",
   "mimetype": "text/x-python",
   "name": "python",
   "nbconvert_exporter": "python",
   "pygments_lexer": "ipython3",
   "version": "3.10.0"
  },
  "orig_nbformat": 4
 },
 "nbformat": 4,
 "nbformat_minor": 2
}
