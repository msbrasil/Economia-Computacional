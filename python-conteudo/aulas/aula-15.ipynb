{
 "cells": [
  {
   "cell_type": "markdown",
   "metadata": {},
   "source": [
    "Universidade Federal do Paraná\n",
    "Departamento de Economia\n",
    "Disciplina: Economia Computacional\n",
    "@author: Matheus de Souza Brasil\n",
    "created on Thu Dec 08 2021"
   ]
  },
  {
   "cell_type": "code",
   "execution_count": 4,
   "metadata": {},
   "outputs": [],
   "source": [
    "import numpy as np              #funções matemáticas\n",
    "import statistics as sta        #funções estatísticas\n",
    "import pandas as pd             #acesso e manipulação de dados\n",
    "import string as stg            #manipulação de strings\n",
    "import matplotlib.pyplot as pl  #funções básicas para gráficos"
   ]
  },
  {
   "cell_type": "markdown",
   "metadata": {},
   "source": [
    "# Tipos de Dados\n",
    "## Caracter ou String"
   ]
  },
  {
   "cell_type": "code",
   "execution_count": 20,
   "metadata": {},
   "outputs": [
    {
     "data": {
      "text/plain": [
       "'Esta é uma aula introdutória de Python'"
      ]
     },
     "execution_count": 20,
     "metadata": {},
     "output_type": "execute_result"
    }
   ],
   "source": [
    "texto0 = 'Esta é'                               #criação de strings\n",
    "texto1 = 'uma aula introdutória de'\n",
    "texto2 = 'Python'\n",
    "texto = texto0 + \" \" + texto1 + \" \" + texto2    #armazenando e concatenação de variáveis \n",
    "texto"
   ]
  },
  {
   "cell_type": "markdown",
   "metadata": {},
   "source": [
    "### Fatiamento de string"
   ]
  },
  {
   "cell_type": "code",
   "execution_count": 7,
   "metadata": {},
   "outputs": [
    {
     "name": "stdout",
     "output_type": "stream",
     "text": [
      "A\n",
      "C\n",
      "BC\n",
      "ABCDE\n",
      "DEFGH\n",
      "H\n",
      "A\n"
     ]
    }
   ],
   "source": [
    "texto = \"ABCDEFGH\"\n",
    "print(texto[0])     #0 é a posição do primeiro caractere\n",
    "print(texto[2])\n",
    "print(texto[1:3])   #usamos os : para pegar intervalos\n",
    "print(texto[:5])\n",
    "print(texto[3:])\n",
    "print(texto[-1])    #índice negativo conta a partir do caractere 0 para trás\n",
    "print(texto[-8])"
   ]
  },
  {
   "cell_type": "markdown",
   "metadata": {},
   "source": [
    "### É possível multiplicar os textos no Python"
   ]
  },
  {
   "cell_type": "code",
   "execution_count": 10,
   "metadata": {},
   "outputs": [
    {
     "name": "stdout",
     "output_type": "stream",
     "text": [
      "ABCDEFGHABCDEFGHABCDEFGH\n",
      "ABCDEFGH! \n"
     ]
    }
   ],
   "source": [
    "print(texto * 3)\n",
    "novoTexto = texto + \"! \"\n",
    "print(novoTexto)"
   ]
  },
  {
   "cell_type": "markdown",
   "metadata": {},
   "source": [
    "### Métodos de strings"
   ]
  },
  {
   "cell_type": "code",
   "execution_count": 27,
   "metadata": {},
   "outputs": [
    {
     "name": "stdout",
     "output_type": "stream",
     "text": [
      "Matheus\n",
      "MATHEUS\n",
      "matheus\n",
      "32\n",
      "2\n",
      "['Esta', 'é', 'uma', 'aula', 'introdutória', 'de', 'Python']\n",
      "uma\n",
      "38\n"
     ]
    }
   ],
   "source": [
    "texto = 'matheus'\n",
    "print(texto.capitalize())   #primeira letra maiúscula\n",
    "print(texto.upper())        #todas as letras maiúsculas\n",
    "print(nome.upper().lower()) #todas as letras minúsculas\n",
    "texto = texto0 + \" \" + texto1 + \" \" + texto2\n",
    "print(texto.find('Py'))     #encontra trecho solicitado, se existir\n",
    "print(texto.count('o'))     #conta quantas vezes o que foi declarado aparece na string\n",
    "print(texto.split())        #transforma a string em uma lista\n",
    "print(texto.split()[2])\n",
    "print(len(texto))           #tamanho da string"
   ]
  },
  {
   "cell_type": "markdown",
   "metadata": {},
   "source": [
    "### Função Input"
   ]
  },
  {
   "cell_type": "code",
   "execution_count": 2,
   "metadata": {},
   "outputs": [
    {
     "name": "stdout",
     "output_type": "stream",
     "text": [
      "Olá,Matheus, prazer em conhecê-lo!\n",
      "Olá Matheus, prazer em conhecê-lo!\n"
     ]
    }
   ],
   "source": [
    "nome = input('Qual é o seu nome: ').capitalize() #cria sessão para inserir o valor solicitado.\n",
    "print('Olá,' + nome + ', prazer em conhecê-lo!')\n",
    "#ou\n",
    "print(f'Olá {nome}, prazer em conhecê-lo!')"
   ]
  },
  {
   "cell_type": "markdown",
   "metadata": {},
   "source": [
    "## Dados Numéricos"
   ]
  },
  {
   "cell_type": "markdown",
   "metadata": {},
   "source": [
    "### Operadores matemáticos\n",
    "Análogo ao R."
   ]
  },
  {
   "cell_type": "code",
   "execution_count": 9,
   "metadata": {},
   "outputs": [
    {
     "data": {
      "text/plain": [
       "list"
      ]
     },
     "execution_count": 9,
     "metadata": {},
     "output_type": "execute_result"
    }
   ],
   "source": [
    "v1 = [1, 2, 3, 4, 5]\n",
    "v2= pd.Series(v1)\n",
    "v2\n",
    "type(v1) #Diferente do R, no Python não existe o objeto vetor, apenas listas ou tuplas."
   ]
  }
 ],
 "metadata": {
  "interpreter": {
   "hash": "f244901a1cefac460a7f1ec92d059106258d57f2a6ff27407b0c4aa071020808"
  },
  "kernelspec": {
   "display_name": "Python 3.10.0 64-bit",
   "language": "python",
   "name": "python3"
  },
  "language_info": {
   "codemirror_mode": {
    "name": "ipython",
    "version": 3
   },
   "file_extension": ".py",
   "mimetype": "text/x-python",
   "name": "python",
   "nbconvert_exporter": "python",
   "pygments_lexer": "ipython3",
   "version": "3.10.0"
  },
  "orig_nbformat": 4
 },
 "nbformat": 4,
 "nbformat_minor": 2
}
